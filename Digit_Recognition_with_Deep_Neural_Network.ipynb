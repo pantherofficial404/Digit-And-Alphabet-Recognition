{
  "nbformat": 4,
  "nbformat_minor": 0,
  "metadata": {
    "colab": {
      "name": "Digit Recognition with Deep Neural Network.ipynb",
      "version": "0.3.2",
      "provenance": [],
      "collapsed_sections": [],
      "toc_visible": true
    },
    "kernelspec": {
      "name": "python3",
      "display_name": "Python 3"
    },
    "accelerator": "GPU"
  },
  "cells": [
    {
      "metadata": {
        "id": "IcfRtqZ42UG9",
        "colab_type": "text"
      },
      "cell_type": "markdown",
      "source": [
        "## Importing Essential Libraries"
      ]
    },
    {
      "metadata": {
        "id": "nUMDA6targAF",
        "colab_type": "code",
        "colab": {}
      },
      "cell_type": "code",
      "source": [
        "import numpy as np\n",
        "import matplotlib.pyplot as plt\n",
        "from keras.models import Sequential\n",
        "from keras.optimizers import Adam,RMSprop\n",
        "from keras.layers import Dense\n",
        "from keras.utils.np_utils import to_categorical\n",
        "from keras.datasets import mnist\n",
        "import random\n",
        "from keras.layers import Flatten\n",
        "from keras.layers import Dropout\n",
        "from keras.layers.convolutional import Conv2D\n",
        "from keras.layers.convolutional import MaxPooling2D\n",
        "from keras.preprocessing.image import ImageDataGenerator\n",
        "from keras.callbacks import ReduceLROnPlateau"
      ],
      "execution_count": 0,
      "outputs": []
    },
    {
      "metadata": {
        "id": "aWCNaUcS2dgr",
        "colab_type": "text"
      },
      "cell_type": "markdown",
      "source": [
        "## Spliting Dataset"
      ]
    },
    {
      "metadata": {
        "id": "VCLwuDNX1rGd",
        "colab_type": "code",
        "colab": {}
      },
      "cell_type": "code",
      "source": [
        "(x_train,y_train),(x_test,y_test) = mnist.load_data()"
      ],
      "execution_count": 0,
      "outputs": []
    },
    {
      "metadata": {
        "id": "pVOT64d52usi",
        "colab_type": "text"
      },
      "cell_type": "markdown",
      "source": [
        "## Checking Shape of images"
      ]
    },
    {
      "metadata": {
        "id": "5WMCTAyT1uJT",
        "colab_type": "code",
        "outputId": "124dbea4-f7a5-4442-eca4-8998dc4b67a9",
        "colab": {
          "base_uri": "https://localhost:8080/",
          "height": 86
        }
      },
      "cell_type": "code",
      "source": [
        "print(x_train.shape)\n",
        "print(y_train.shape)\n",
        "print(x_test.shape)\n",
        "print(y_test.shape)"
      ],
      "execution_count": 32,
      "outputs": [
        {
          "output_type": "stream",
          "text": [
            "(60000, 28, 28)\n",
            "(60000,)\n",
            "(10000, 28, 28)\n",
            "(10000,)\n"
          ],
          "name": "stdout"
        }
      ]
    },
    {
      "metadata": {
        "id": "LHiI4RB03Aqb",
        "colab_type": "text"
      },
      "cell_type": "markdown",
      "source": [
        "## Using Assert Function To Cross Validate Data"
      ]
    },
    {
      "metadata": {
        "id": "9NAmSs_W1vri",
        "colab_type": "code",
        "colab": {}
      },
      "cell_type": "code",
      "source": [
        "assert(x_train.shape[0]==y_train.shape[0]),\"Image Lengths Are Not Same\"\n",
        "assert(x_test.shape[0]==y_test.shape[0]),'Image Lengths Are Not Same'\n",
        "assert(x_train.shape[1:]==(28,28)),'Shapes Are Not Same'\n",
        "assert(x_test.shape[1:]==(28,28)),\"Shapes Are Not Same\""
      ],
      "execution_count": 0,
      "outputs": []
    },
    {
      "metadata": {
        "id": "Jsz-vjAo5zjS",
        "colab_type": "text"
      },
      "cell_type": "markdown",
      "source": [
        "## Plotting The Images"
      ]
    },
    {
      "metadata": {
        "id": "rQtpDWfS2E1C",
        "colab_type": "code",
        "outputId": "ba3cd5e7-d279-4ac1-cedd-8e4b1cdf87e7",
        "colab": {
          "base_uri": "https://localhost:8080/",
          "height": 756
        }
      },
      "cell_type": "code",
      "source": [
        "numberOfSamples = []\n",
        "classes = 10\n",
        "cols = 5\n",
        "fig,axs = plt.subplots(nrows=classes,ncols=cols,figsize=(15,10))\n",
        "fig.tight_layout()\n",
        "for i in range(cols):\n",
        "  for j in range(classes):\n",
        "    x_selected = x_train[y_train==j]\n",
        "    axs[j][i].imshow(x_selected[random.randint(0,len(x_selected)),:,:],cmap=\"gray\")\n",
        "    axs[j][i].axis('off')\n",
        "    if(i==2):\n",
        "      axs[j][i].set_title(j)\n",
        "      numberOfSamples.append(len(x_selected))"
      ],
      "execution_count": 34,
      "outputs": [
        {
          "output_type": "display_data",
          "data": {
            "image/png": "[encoded data removed]",
            "text/plain": [
              "<Figure size 1080x720 with 50 Axes>"
            ]
          },
          "metadata": {
            "tags": []
          }
        }
      ]
    },
    {
      "metadata": {
        "id": "3dYM0cAs_xI4",
        "colab_type": "text"
      },
      "cell_type": "markdown",
      "source": [
        "## Ploting Bar Plot For Number Of Samples"
      ]
    },
    {
      "metadata": {
        "id": "G-HsvePl94Kj",
        "colab_type": "code",
        "outputId": "a8024193-ec1a-4b4b-f920-489f563257cb",
        "colab": {
          "base_uri": "https://localhost:8080/",
          "height": 393
        }
      },
      "cell_type": "code",
      "source": [
        "plt.bar(range(0,len(numberOfSamples)),numberOfSamples)\n",
        "plt.xticks(np.arange(0,len(numberOfSamples)))\n",
        "plt.title(\"Number Of Samples\")\n",
        "plt.xlabel(\"Numbers\")\n",
        "plt.ylabel(\"Number Of Samples\")"
      ],
      "execution_count": 35,
      "outputs": [
        {
          "output_type": "execute_result",
          "data": {
            "text/plain": [
              "Text(0, 0.5, 'Number Of Samples')"
            ]
          },
          "metadata": {
            "tags": []
          },
          "execution_count": 35
        },
        {
          "output_type": "display_data",
          "data": {
            "image/png": "[encoded data removed]",
            "text/plain": [
              "<Figure size 576x396 with 1 Axes>"
            ]
          },
          "metadata": {
            "tags": []
          }
        }
      ]
    },
    {
      "metadata": {
        "id": "cHqdpvh6Cpji",
        "colab_type": "text"
      },
      "cell_type": "markdown",
      "source": [
        "## Convert Y Data Into Categorical"
      ]
    },
    {
      "metadata": {
        "id": "adB2U811BVAI",
        "colab_type": "code",
        "colab": {}
      },
      "cell_type": "code",
      "source": [
        "y_train = to_categorical(y_train,10)\n",
        "y_test = to_categorical(y_test,10)"
      ],
      "execution_count": 0,
      "outputs": []
    },
    {
      "metadata": {
        "id": "jJYDqtKuC7BG",
        "colab_type": "text"
      },
      "cell_type": "markdown",
      "source": [
        "## Convert Every Image Into 0 To 1 Format For Faster Performance"
      ]
    },
    {
      "metadata": {
        "id": "GO7IPEunCk1S",
        "colab_type": "code",
        "colab": {}
      },
      "cell_type": "code",
      "source": [
        "x_train = x_train/255\n",
        "x_test = x_test/255"
      ],
      "execution_count": 0,
      "outputs": []
    },
    {
      "metadata": {
        "id": "X2aiAN8j6PC_",
        "colab_type": "text"
      },
      "cell_type": "markdown",
      "source": [
        "## Convert Image Into 28 By 28 By 1"
      ]
    },
    {
      "metadata": {
        "id": "mI-JnNOKCmvL",
        "colab_type": "code",
        "colab": {}
      },
      "cell_type": "code",
      "source": [
        "x_train = x_train.reshape(x_train.shape[0],28,28,1)\n",
        "x_test = x_test.reshape(x_test.shape[0],28,28,1)"
      ],
      "execution_count": 0,
      "outputs": []
    },
    {
      "metadata": {
        "id": "mzjSqMV9E-2R",
        "colab_type": "code",
        "outputId": "4386abef-8c53-4251-f846-dd40a7e61ae8",
        "colab": {
          "base_uri": "https://localhost:8080/",
          "height": 34
        }
      },
      "cell_type": "code",
      "source": [
        "x_train[0].shape"
      ],
      "execution_count": 39,
      "outputs": [
        {
          "output_type": "execute_result",
          "data": {
            "text/plain": [
              "(28, 28, 1)"
            ]
          },
          "metadata": {
            "tags": []
          },
          "execution_count": 39
        }
      ]
    },
    {
      "metadata": {
        "id": "-F8gdVpz6pVF",
        "colab_type": "code",
        "outputId": "ccfc5343-e312-42ee-b5a5-cc7e98c19047",
        "colab": {
          "base_uri": "https://localhost:8080/",
          "height": 364
        }
      },
      "cell_type": "code",
      "source": [
        "plt.imshow(x_train[0].reshape(28,28))"
      ],
      "execution_count": 40,
      "outputs": [
        {
          "output_type": "execute_result",
          "data": {
            "text/plain": [
              "<matplotlib.image.AxesImage at 0x7fb90821bef0>"
            ]
          },
          "metadata": {
            "tags": []
          },
          "execution_count": 40
        },
        {
          "output_type": "display_data",
          "data": {
            "image/png": "[encoded data removed]",
            "text/plain": [
              "<Figure size 576x396 with 1 Axes>"
            ]
          },
          "metadata": {
            "tags": []
          }
        }
      ]
    },
    {
      "metadata": {
        "id": "vFoVFGswTYAw",
        "colab_type": "code",
        "colab": {}
      },
      "cell_type": "code",
      "source": [
        "learning_rate_reduction = ReduceLROnPlateau(monitor='val_acc', \n",
        "                                            patience=3, \n",
        "                                            verbose=1, \n",
        "                                            factor=0.5, \n",
        "                                            min_lr=0.00001)\n",
        "datagen = ImageDataGenerator(\n",
        "        featurewise_center=False,  # set input mean to 0 over the dataset\n",
        "        samplewise_center=False,  # set each sample mean to 0\n",
        "        featurewise_std_normalization=False,  # divide inputs by std of the dataset\n",
        "        samplewise_std_normalization=False,  # divide each input by its std\n",
        "        zca_whitening=False,  # apply ZCA whitening\n",
        "        rotation_range=10,  # randomly rotate images in the range (degrees, 0 to 180)\n",
        "        zoom_range = 0.1, # Randomly zoom image \n",
        "        width_shift_range=0.1,  # randomly shift images horizontally (fraction of total width)\n",
        "        height_shift_range=0.1,  # randomly shift images vertically (fraction of total height)\n",
        "        horizontal_flip=False,  # randomly flip images\n",
        "        vertical_flip=False)  # randomly flip images\n",
        "\n",
        "\n",
        "datagen.fit(x_train)"
      ],
      "execution_count": 0,
      "outputs": []
    },
    {
      "metadata": {
        "id": "KiUQwbQ379zu",
        "colab_type": "code",
        "colab": {}
      },
      "cell_type": "code",
      "source": [
        "def lenet():\n",
        "  model = Sequential()\n",
        "  \n",
        "  model.add(Conv2D(32,(5,5),input_shape=(28,28,1),activation=\"relu\",padding=\"same\"))\n",
        "  model.add(Conv2D(32,(5,5),activation=\"relu\",padding=\"same\"))\n",
        "  model.add(MaxPooling2D(pool_size=(2,2)))\n",
        "  model.add(Dropout(0.25))\n",
        "  \n",
        "  model.add(Conv2D(64,(3,3),activation=\"relu\",padding=\"same\"))\n",
        "  model.add(Conv2D(32,(5,5),activation=\"relu\",padding=\"same\"))\n",
        "  model.add(MaxPooling2D(pool_size=(2,2),strides=(2,2)))\n",
        "  model.add(Dropout(0.25))\n",
        "\n",
        "  model.add(Flatten())\n",
        "  model.add(Dense(256,activation=\"relu\"))\n",
        "  model.add(Dropout(0.2))\n",
        "  model.add(Dense(10,activation=\"softmax\"))\n",
        "  model.compile(RMSprop(lr=0.001, rho=0.9, epsilon=1e-08, decay=0.0),'categorical_crossentropy',metrics=['accuracy'])\n",
        "  return model"
      ],
      "execution_count": 0,
      "outputs": []
    },
    {
      "metadata": {
        "id": "1_ZqU4msHE-t",
        "colab_type": "code",
        "outputId": "0744941f-c3e7-4b54-adc3-a62fb326e525",
        "colab": {
          "base_uri": "https://localhost:8080/",
          "height": 555
        }
      },
      "cell_type": "code",
      "source": [
        "model = lenet()\n",
        "model.summary()"
      ],
      "execution_count": 43,
      "outputs": [
        {
          "output_type": "stream",
          "text": [
            "_________________________________________________________________\n",
            "Layer (type)                 Output Shape              Param #   \n",
            "=================================================================\n",
            "conv2d_11 (Conv2D)           (None, 28, 28, 32)        832       \n",
            "_________________________________________________________________\n",
            "conv2d_12 (Conv2D)           (None, 28, 28, 32)        25632     \n",
            "_________________________________________________________________\n",
            "max_pooling2d_7 (MaxPooling2 (None, 14, 14, 32)        0         \n",
            "_________________________________________________________________\n",
            "dropout_9 (Dropout)          (None, 14, 14, 32)        0         \n",
            "_________________________________________________________________\n",
            "conv2d_13 (Conv2D)           (None, 14, 14, 64)        18496     \n",
            "_________________________________________________________________\n",
            "conv2d_14 (Conv2D)           (None, 14, 14, 32)        51232     \n",
            "_________________________________________________________________\n",
            "max_pooling2d_8 (MaxPooling2 (None, 7, 7, 32)          0         \n",
            "_________________________________________________________________\n",
            "dropout_10 (Dropout)         (None, 7, 7, 32)          0         \n",
            "_________________________________________________________________\n",
            "flatten_4 (Flatten)          (None, 1568)              0         \n",
            "_________________________________________________________________\n",
            "dense_7 (Dense)              (None, 256)               401664    \n",
            "_________________________________________________________________\n",
            "dropout_11 (Dropout)         (None, 256)               0         \n",
            "_________________________________________________________________\n",
            "dense_8 (Dense)              (None, 10)                2570      \n",
            "=================================================================\n",
            "Total params: 500,426\n",
            "Trainable params: 500,426\n",
            "Non-trainable params: 0\n",
            "_________________________________________________________________\n"
          ],
          "name": "stdout"
        }
      ]
    },
    {
      "metadata": {
        "id": "1TSEFjhbHjvP",
        "colab_type": "code",
        "outputId": "0f36b21b-9804-404b-f8c7-095b91b3b2b5",
        "colab": {
          "base_uri": "https://localhost:8080/",
          "height": 402
        }
      },
      "cell_type": "code",
      "source": [
        "h = model.fit(x=x_train,y=y_train,verbose=1,shuffle=123,validation_split=0.1,batch_size=400,epochs=10)"
      ],
      "execution_count": 45,
      "outputs": [
        {
          "output_type": "stream",
          "text": [
            "Train on 54000 samples, validate on 6000 samples\n",
            "Epoch 1/10\n",
            "54000/54000 [==============================] - 8s 142us/step - loss: 0.0329 - acc: 0.9901 - val_loss: 0.0200 - val_acc: 0.9940\n",
            "Epoch 2/10\n",
            "54000/54000 [==============================] - 8s 140us/step - loss: 0.0260 - acc: 0.9918 - val_loss: 0.0217 - val_acc: 0.9935\n",
            "Epoch 3/10\n",
            "54000/54000 [==============================] - 7s 137us/step - loss: 0.0226 - acc: 0.9932 - val_loss: 0.0207 - val_acc: 0.9942\n",
            "Epoch 4/10\n",
            "54000/54000 [==============================] - 8s 140us/step - loss: 0.0195 - acc: 0.9940 - val_loss: 0.0273 - val_acc: 0.9920\n",
            "Epoch 5/10\n",
            "54000/54000 [==============================] - 8s 140us/step - loss: 0.0171 - acc: 0.9943 - val_loss: 0.0198 - val_acc: 0.9945\n",
            "Epoch 6/10\n",
            "54000/54000 [==============================] - 7s 136us/step - loss: 0.0154 - acc: 0.9951 - val_loss: 0.0227 - val_acc: 0.9937\n",
            "Epoch 7/10\n",
            "54000/54000 [==============================] - 7s 136us/step - loss: 0.0144 - acc: 0.9953 - val_loss: 0.0210 - val_acc: 0.9952\n",
            "Epoch 8/10\n",
            "54000/54000 [==============================] - 8s 141us/step - loss: 0.0136 - acc: 0.9955 - val_loss: 0.0198 - val_acc: 0.9955\n",
            "Epoch 9/10\n",
            "54000/54000 [==============================] - 7s 136us/step - loss: 0.0121 - acc: 0.9960 - val_loss: 0.0212 - val_acc: 0.9942\n",
            "Epoch 10/10\n",
            "54000/54000 [==============================] - 7s 135us/step - loss: 0.0101 - acc: 0.9968 - val_loss: 0.0208 - val_acc: 0.9948\n"
          ],
          "name": "stdout"
        }
      ]
    },
    {
      "metadata": {
        "id": "uS1DKE3uIhzB",
        "colab_type": "code",
        "outputId": "b89a21a1-e206-41a2-82fb-d643962e0ea1",
        "colab": {
          "base_uri": "https://localhost:8080/",
          "height": 364
        }
      },
      "cell_type": "code",
      "source": [
        "plt.plot(h.history['acc'])\n",
        "plt.plot(h.history['val_acc'])"
      ],
      "execution_count": 46,
      "outputs": [
        {
          "output_type": "execute_result",
          "data": {
            "text/plain": [
              "[<matplotlib.lines.Line2D at 0x7fb91683e0f0>]"
            ]
          },
          "metadata": {
            "tags": []
          },
          "execution_count": 46
        },
        {
          "output_type": "display_data",
          "data": {
            "image/png": "[encoded data removed]",
            "text/plain": [
              "<Figure size 576x396 with 1 Axes>"
            ]
          },
          "metadata": {
            "tags": []
          }
        }
      ]
    },
    {
      "metadata": {
        "id": "73xfZ-aJJYwz",
        "colab_type": "code",
        "outputId": "d2463678-128a-426a-eee2-a4c55be882ec",
        "colab": {
          "base_uri": "https://localhost:8080/",
          "height": 364
        }
      },
      "cell_type": "code",
      "source": [
        "plt.plot(h.history['loss'])\n",
        "plt.plot(h.history['val_loss'])"
      ],
      "execution_count": 47,
      "outputs": [
        {
          "output_type": "execute_result",
          "data": {
            "text/plain": [
              "[<matplotlib.lines.Line2D at 0x7fb91687e1d0>]"
            ]
          },
          "metadata": {
            "tags": []
          },
          "execution_count": 47
        },
        {
          "output_type": "display_data",
          "data": {
            "image/png": "[encoded data removed]",
            "text/plain": [
              "<Figure size 576x396 with 1 Axes>"
            ]
          },
          "metadata": {
            "tags": []
          }
        }
      ]
    },
    {
      "metadata": {
        "id": "ZjSXwSBYK1_x",
        "colab_type": "text"
      },
      "cell_type": "markdown",
      "source": [
        "## Testing With Real Data"
      ]
    },
    {
      "metadata": {
        "id": "b2RboHZfKjI2",
        "colab_type": "code",
        "colab": {}
      },
      "cell_type": "code",
      "source": [
        "import requests\n",
        "from PIL import Image\n",
        "import cv2"
      ],
      "execution_count": 0,
      "outputs": []
    },
    {
      "metadata": {
        "id": "wYVs3hjIMh6q",
        "colab_type": "code",
        "colab": {}
      },
      "cell_type": "code",
      "source": [
        "url = \"https://www.researchgate.net/profile/Jose_Sempere/publication/221258631/figure/fig1/AS:305526891139075@1449854695342/Handwritten-digit-2.png\"\n",
        "res = requests.get(url,stream=True)\n",
        "img = Image.open(res.raw)\n",
        "img = np.asarray(img)\n",
        "img = cv2.resize(img,(28,28))\n",
        "img = cv2.cvtColor(img,cv2.COLOR_BGR2GRAY)\n",
        "img = img.reshape(1,28,28,1)"
      ],
      "execution_count": 0,
      "outputs": []
    },
    {
      "metadata": {
        "id": "0aDA7RZDM35c",
        "colab_type": "code",
        "colab": {}
      },
      "cell_type": "code",
      "source": [
        "prediction = model.predict_classes(img)"
      ],
      "execution_count": 0,
      "outputs": []
    },
    {
      "metadata": {
        "id": "I48I_uweM5jl",
        "colab_type": "code",
        "outputId": "1f700fa0-d67c-4d59-bc7e-39f0f3f79d30",
        "colab": {
          "base_uri": "https://localhost:8080/",
          "height": 34
        }
      },
      "cell_type": "code",
      "source": [
        "prediction"
      ],
      "execution_count": 58,
      "outputs": [
        {
          "output_type": "execute_result",
          "data": {
            "text/plain": [
              "array([1])"
            ]
          },
          "metadata": {
            "tags": []
          },
          "execution_count": 58
        }
      ]
    },
    {
      "metadata": {
        "id": "hgSVlt5aNrcc",
        "colab_type": "code",
        "colab": {}
      },
      "cell_type": "code",
      "source": [
        "model.save(\"digit.h5\")"
      ],
      "execution_count": 0,
      "outputs": []
    },
    {
      "metadata": {
        "id": "q8IBbsKeOn0W",
        "colab_type": "code",
        "colab": {}
      },
      "cell_type": "code",
      "source": [
        "from keras.models import load_model"
      ],
      "execution_count": 0,
      "outputs": []
    },
    {
      "metadata": {
        "id": "9blnGu3DOxoR",
        "colab_type": "code",
        "colab": {}
      },
      "cell_type": "code",
      "source": [
        "data = load_model('./digit.h5')"
      ],
      "execution_count": 0,
      "outputs": []
    },
    {
      "metadata": {
        "id": "ccUkvPshO0Kq",
        "colab_type": "code",
        "outputId": "a6a2a3b9-6e66-4aa0-b128-cf7d22546b10",
        "colab": {
          "base_uri": "https://localhost:8080/",
          "height": 34
        }
      },
      "cell_type": "code",
      "source": [
        "data.predict_classes(img)"
      ],
      "execution_count": 62,
      "outputs": [
        {
          "output_type": "execute_result",
          "data": {
            "text/plain": [
              "array([1])"
            ]
          },
          "metadata": {
            "tags": []
          },
          "execution_count": 62
        }
      ]
    },
    {
      "metadata": {
        "id": "ceAAfE3lO2NS",
        "colab_type": "code",
        "colab": {}
      },
      "cell_type": "code",
      "source": [
        ""
      ],
      "execution_count": 0,
      "outputs": []
    }
  ]
}